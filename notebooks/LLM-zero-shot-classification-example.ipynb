{
 "cells": [
  {
   "cell_type": "markdown",
   "id": "e33dde49-d770-44b6-b8db-d85396ab9213",
   "metadata": {},
   "source": [
    "# Zero-shot classification\n",
    "Zero-shot classification (ZSC) is a machine learning technique where a model can classify instances into categories it has not seen during training. This can be done with model that was trained either on similar data or on a data that is has seen enough data to generalize. Zero-shot classification is useful in cases where your dataset is too small to train a model.\n",
    "\n",
    "In this demo we are going to use DeBERTa-v3-base-mnli-fever-anli model. This model was trained on the MultiNLI, Fever-NLI and Adversarial-NLI (ANLI) datasets.\n",
    "For this model, zero-shot classification works by leveraging the rich semantic understanding these datasets provide. These datasets contain a wide range of natural language inference (NLI) tasks, which help the model learn complex relationships between sentences. The model generates embeddings for input texts that capture nuanced meanings and contexts. When faced with a new class or category not explicitly seen during training, the model uses its learned embeddings to find the closest matches in terms of semantic similarity. It then assigns the input to the most semantically similar class available in its training data. This approach allows the model to generalize effectively across unseen classes by relying on the semantic closeness rather than direct matching.\n",
    "\n",
    "\n",
    "Since these models are computationally heavy, we run only on a sample of data, which allows to estimate preformance. For this dataset we've got accuracy ~40%, which is much lower than supervised learning, but it is still good baseline for 77 classes."
   ]
  },
  {
   "cell_type": "code",
   "execution_count": null,
   "id": "64c1371a-975b-454c-870f-07a365d8d1e5",
   "metadata": {},
   "outputs": [],
   "source": [
    "from transformers import pipeline\n",
    "import pandas as pd\n",
    "from datasets import load_dataset\n",
    "from sentence_transformers import SentenceTransformer"
   ]
  },
  {
   "cell_type": "markdown",
   "id": "95eb9aa7-50f0-49a0-a702-15ba85e97ad4",
   "metadata": {},
   "source": [
    "## Prepare Data"
   ]
  },
  {
   "cell_type": "code",
   "execution_count": null,
   "id": "d994e805-6b04-4c0c-acfa-f36ad304e456",
   "metadata": {},
   "outputs": [],
   "source": [
    "sample_size = 100  # Running model is resourceful, so we limit sample size"
   ]
  },
  {
   "cell_type": "code",
   "execution_count": null,
   "id": "c1064220-db0b-463b-a46f-87aaae336894",
   "metadata": {},
   "outputs": [],
   "source": [
    "dataset = load_dataset(\"PolyAI/banking77\", revision=\"main\") # taking the data from the main branch\n",
    "train_data = pd.DataFrame(dataset['train'])\n",
    "test_data = pd.DataFrame(dataset['test'])\n",
    "\n",
    "label_names = [\n",
    "            \"activate_my_card\",\n",
    "            \"age_limit\",\n",
    "            \"apple_pay_or_google_pay\",\n",
    "            \"atm_support\",\n",
    "            \"automatic_top_up\",\n",
    "            \"balance_not_updated_after_bank_transfer\",\n",
    "            \"balance_not_updated_after_cheque_or_cash_deposit\",\n",
    "            \"beneficiary_not_allowed\",\n",
    "            \"cancel_transfer\",\n",
    "            \"card_about_to_expire\",\n",
    "            \"card_acceptance\",\n",
    "            \"card_arrival\",\n",
    "            \"card_delivery_estimate\",\n",
    "            \"card_linking\",\n",
    "            \"card_not_working\",\n",
    "            \"card_payment_fee_charged\",\n",
    "            \"card_payment_not_recognised\",\n",
    "            \"card_payment_wrong_exchange_rate\",\n",
    "            \"card_swallowed\",\n",
    "            \"cash_withdrawal_charge\",\n",
    "            \"cash_withdrawal_not_recognised\",\n",
    "            \"change_pin\",\n",
    "            \"compromised_card\",\n",
    "            \"contactless_not_working\",\n",
    "            \"country_support\",\n",
    "            \"declined_card_payment\",\n",
    "            \"declined_cash_withdrawal\",\n",
    "            \"declined_transfer\",\n",
    "            \"direct_debit_payment_not_recognised\",\n",
    "            \"disposable_card_limits\",\n",
    "            \"edit_personal_details\",\n",
    "            \"exchange_charge\",\n",
    "            \"exchange_rate\",\n",
    "            \"exchange_via_app\",\n",
    "            \"extra_charge_on_statement\",\n",
    "            \"failed_transfer\",\n",
    "            \"fiat_currency_support\",\n",
    "            \"get_disposable_virtual_card\",\n",
    "            \"get_physical_card\",\n",
    "            \"getting_spare_card\",\n",
    "            \"getting_virtual_card\",\n",
    "            \"lost_or_stolen_card\",\n",
    "            \"lost_or_stolen_phone\",\n",
    "            \"order_physical_card\",\n",
    "            \"passcode_forgotten\",\n",
    "            \"pending_card_payment\",\n",
    "            \"pending_cash_withdrawal\",\n",
    "            \"pending_top_up\",\n",
    "            \"pending_transfer\",\n",
    "            \"pin_blocked\",\n",
    "            \"receiving_money\",\n",
    "            \"Refund_not_showing_up\",\n",
    "            \"request_refund\",\n",
    "            \"reverted_card_payment?\",\n",
    "            \"supported_cards_and_currencies\",\n",
    "            \"terminate_account\",\n",
    "            \"top_up_by_bank_transfer_charge\",\n",
    "            \"top_up_by_card_charge\",\n",
    "            \"top_up_by_cash_or_cheque\",\n",
    "            \"top_up_failed\",\n",
    "            \"top_up_limits\",\n",
    "            \"top_up_reverted\",\n",
    "            \"topping_up_by_card\",\n",
    "            \"transaction_charged_twice\",\n",
    "            \"transfer_fee_charged\",\n",
    "            \"transfer_into_account\",\n",
    "            \"transfer_not_received_by_recipient\",\n",
    "            \"transfer_timing\",\n",
    "            \"unable_to_verify_identity\",\n",
    "            \"verify_my_identity\",\n",
    "            \"verify_source_of_funds\",\n",
    "            \"verify_top_up\",\n",
    "            \"virtual_card_not_working\",\n",
    "            \"visa_or_mastercard\",\n",
    "            \"why_verify_identity\",\n",
    "            \"wrong_amount_of_cash_received\",\n",
    "            \"wrong_exchange_rate_for_cash_withdrawal\"]\n",
    "\n",
    "train_data[\"label_name\"] = train_data[\"label\"].apply(lambda x: label_names[x])\n",
    "test_data[\"label_name\"] = test_data[\"label\"].apply(lambda x: label_names[x])\n",
    "eval_data: pd.DataFrame = train_data.sample(sample_size)"
   ]
  },
  {
   "cell_type": "markdown",
   "id": "15d360d2-eb93-449c-9981-45cd0fc5acf8",
   "metadata": {},
   "source": [
    "## Import Model\n",
    "More about this model: https://huggingface.co/MoritzLaurer/DeBERTa-v3-base-mnli-fever-anli\n"
   ]
  },
  {
   "cell_type": "code",
   "execution_count": null,
   "id": "7d272f1f-f51c-4f84-a81c-22f8b2f4778d",
   "metadata": {},
   "outputs": [],
   "source": [
    "# Initialize classificator\n",
    "classifier = pipeline(\"zero-shot-classification\", model=\"MoritzLaurer/DeBERTa-v3-base-mnli-fever-anli\")"
   ]
  },
  {
   "cell_type": "markdown",
   "id": "f39da05c-96b3-49a7-9217-7cddcb4fd3c8",
   "metadata": {},
   "source": [
    "## Run Predictions"
   ]
  },
  {
   "cell_type": "code",
   "execution_count": null,
   "id": "7189d961-1310-4431-b2df-1110dbeea7cf",
   "metadata": {},
   "outputs": [],
   "source": [
    "# Run prediction\n",
    "predictions = []\n",
    "def get_predicted_label(prediction):\n",
    "    highest_score_idx = prediction['scores'].index(max(prediction['scores']))\n",
    "    return prediction['labels'][highest_score_idx]\n",
    "\n",
    "predictions: list = classifier(eval_data['text'].tolist(), label_names)\n",
    "predicted_labels = list(map(get_predicted_label, predictions))\n",
    "\n",
    "eval_data['pred'] = predicted_labels\n",
    "percentage_correct = (eval_data['label_name'] == eval_data['pred']).mean()\n",
    "print(percentage_correct)"
   ]
  },
  {
   "cell_type": "code",
   "execution_count": null,
   "id": "c0e7c779-bc49-4738-bdf6-536533abdad6",
   "metadata": {},
   "outputs": [],
   "source": [
    "from sklearn.metrics import classification_report\n",
    "print(classification_report(eval_data['label_name'], eval_data['pred']))"
   ]
  },
  {
   "cell_type": "code",
   "execution_count": null,
   "id": "3457a9ab-3b35-467e-a162-3efdc32c9be8",
   "metadata": {},
   "outputs": [],
   "source": []
  }
 ],
 "metadata": {
  "kernelspec": {
   "display_name": "Python 3 (ipykernel)",
   "language": "python",
   "name": "python3"
  },
  "language_info": {
   "codemirror_mode": {
    "name": "ipython",
    "version": 3
   },
   "file_extension": ".py",
   "mimetype": "text/x-python",
   "name": "python",
   "nbconvert_exporter": "python",
   "pygments_lexer": "ipython3",
   "version": "3.11.6"
  }
 },
 "nbformat": 4,
 "nbformat_minor": 5
}
