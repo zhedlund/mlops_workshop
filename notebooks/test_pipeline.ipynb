{
 "cells": [
  {
   "cell_type": "markdown",
   "metadata": {},
   "source": [
    "# ML Pipeline\n",
    "\n",
    "A production-ready ML system will usually go beyond the notebook and move the logic to more maintainable python scripts.\n",
    "\n",
    "In the lines below we will train a model, with similar code as before, but defined as python script. You can find all files definitions being imported here in the `workshop/` folder."
   ]
  },
  {
   "cell_type": "code",
   "execution_count": null,
   "metadata": {},
   "outputs": [],
   "source": [
    "# this lines are necessary so you can edit python files and get the changes applied without needing to restart the notebook\n",
    "\n",
    "%load_ext autoreload\n",
    "%autoreload 2"
   ]
  },
  {
   "cell_type": "code",
   "execution_count": null,
   "metadata": {},
   "outputs": [],
   "source": [
    "# load the pipeline\n",
    "from workshop.pipeline import Pipeline\n",
    "pipeline = Pipeline()\n"
   ]
  },
  {
   "cell_type": "markdown",
   "metadata": {},
   "source": [
    "# Task 8 - Add mlflow to the pipeline\n",
    "\n",
    "You have to edit the file workshop/pipeline.py\n",
    "\n",
    "\n",
    "Pro tip: use the autolog feature of mlflow. Search on its official documentation on how to do it."
   ]
  },
  {
   "cell_type": "code",
   "execution_count": null,
   "metadata": {},
   "outputs": [],
   "source": [
    "# reduce the size of the train dataset for training the model faster\n",
    "pipeline.train(sample_train_n=500)\n",
    "pipeline.predict(\"lost my card\")"
   ]
  },
  {
   "cell_type": "markdown",
   "metadata": {},
   "source": [
    "## Task 9: Visualize all mlflow models via the mlflow ui\n",
    "\n",
    "Tip: in the terminal use the command ```mlflow server``` to launch the UI.\n",
    "\n",
    "Explore the files inside each model, you will see that models trained with autolog have quite some interesting stuff inside :)\n",
    "\n"
   ]
  },
  {
   "cell_type": "markdown",
   "metadata": {},
   "source": [
    "# Next\n",
    "\n",
    "For the last task of the workshop continue to the file workshop/streamlit_ui.py"
   ]
  }
 ],
 "metadata": {
  "kernelspec": {
   "display_name": "Python 3",
   "language": "python",
   "name": "python3"
  },
  "language_info": {
   "codemirror_mode": {
    "name": "ipython",
    "version": 3
   },
   "file_extension": ".py",
   "mimetype": "text/x-python",
   "name": "python",
   "nbconvert_exporter": "python",
   "pygments_lexer": "ipython3",
   "version": "3.10.13"
  }
 },
 "nbformat": 4,
 "nbformat_minor": 2
}
